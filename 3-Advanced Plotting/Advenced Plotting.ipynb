{
 "cells": [
  {
   "cell_type": "markdown",
   "metadata": {},
   "source": [
    "# Advenced Plotting"
   ]
  },
  {
   "cell_type": "markdown",
   "metadata": {},
   "source": [
    "## ColumnDataSource"
   ]
  },
  {
   "cell_type": "code",
   "execution_count": null,
   "metadata": {
    "collapsed": true
   },
   "outputs": [],
   "source": [
    "# Import libraries\n",
    "from bokeh.plotting import figure\n",
    "from bokeh.io import output_file, save, show\n",
    "from bokeh.sampledata.iris import flowers\n",
    "from bokeh.models import Range1d, PanTool, ResetTool, HoverTool, ColumnDataSource\n",
    "import pandas as pd\n",
    "\n",
    "# Define the output fle \n",
    "output_file(\"iris.html\")\n",
    "\n",
    "# Add color column regarding the flower species\n",
    "colorMap = {'setosa': 'red', 'versicolor':'green', 'virginica':'blue'}\n",
    "flowers['color'] = [colorMap[x] for x in flowers['species']]\n",
    "\n",
    "# Add respective species image url to out data\n",
    "urlsMap = {\n",
    "    'setosa': 'https://upload.wikimedia.org/wikipedia/commons/thumb/5/56/Kosaciec_szczecinkowaty_Iris_setosa.jpg/800px-Kosaciec_szczecinkowaty_Iris_setosa.jpg', \n",
    "    'versicolor':'https://upload.wikimedia.org/wikipedia/commons/thumb/2/27/Blue_Flag%2C_Ottawa.jpg/800px-Blue_Flag%2C_Ottawa.jpg',\n",
    "    'virginica':'https://upload.wikimedia.org/wikipedia/commons/thumb/9/9f/Iris_virginica.jpg/800px-Iris_virginica.jpg'\n",
    "}\n",
    "flowers['imageURL'] = [urlsMap[x] for x in flowers['species']]\n",
    "\n",
    "# Create the figure object\n",
    "f=figure()\n",
    "\n",
    "# Tools Styling\n",
    "# f.tools=[PanTool(), ResetTool()]\n",
    "hover = HoverTool(\n",
    "    tooltips=\"\"\"\n",
    "        <div>\n",
    "            <div>\n",
    "                <img\n",
    "                    src=\"@imageURL\" height=\"42\" alt=\"@imageURL\" width=\"42\"\n",
    "                    style=\"float: left; margin: 0px 15px 15px 0px;\"\n",
    "                    border=\"2\"\n",
    "                ></img>\n",
    "            </div>\n",
    "            <div>\n",
    "                <span style=\"font-size: 15px; font-weight: bold;\">@species</span>\n",
    "            </div>\n",
    "            <div>\n",
    "                <span style=\"font-size: 10px; color: #696;\">Petal length: @petal_length</span><br>\n",
    "                <span style=\"font-size: 10px; color: #696;\">Petal width: @petal_width</span>\n",
    "            </div>\n",
    "        </div>\n",
    "    \"\"\"\n",
    ")\n",
    "f.add_tools(hover)\n",
    "\n",
    "# Plot area Styling\n",
    "f.plot_width=1100\n",
    "f.plot_height=650\n",
    "f.background_fill_color=\"olive\"\n",
    "f.background_fill_alpha=0.3\n",
    "\n",
    "\n",
    "# Title Styling\n",
    "f.title.text=\"Iris Morphology\"\n",
    "f.title.text_font=\"times\"\n",
    "f.title.text_color=\"olive\"\n",
    "f.title.text_font_size=\"44px\"\n",
    "f.title.align=\"center\"\n",
    "\n",
    "\n",
    "# Axes Styling\n",
    "f.xaxis.minor_tick_line_color=\"blue\"\n",
    "f.yaxis.major_label_orientation=\"vertical\"\n",
    "f.xaxis.axis_label=\"Petal Length\"\n",
    "f.yaxis.axis_label=\"Petal Width\"\n",
    "f.axis.axis_label_text_color=\"blue\"\n",
    "f.axis.major_label_text_color=\"orange\"\n",
    "\n",
    "# Axes Geometry\n",
    "f.x_range=Range1d(start=0, end=10)\n",
    "f.y_range=Range1d(start=0, end=5)\n",
    "# f.xaxis[0].ticker.desired_num_ticks=5\n",
    "f.yaxis[0].ticker.desired_num_ticks=5\n",
    "\n",
    "\n",
    "# Grid Styling\n",
    "f.xgrid.grid_line_color= \"red\"\n",
    "f.ygrid.grid_line_color= \"red\"\n",
    "f.xgrid.grid_line_alpha=0.3\n",
    "f.ygrid.grid_line_alpha=0.3\n",
    "f.grid.grid_line_dash=[5,3]\n",
    "\n",
    "# Adding glyphs (filtered for each species)\n",
    "df = pd.DataFrame(flowers)\n",
    "groupedFlowers = df.groupby('species')\n",
    "\n",
    "for groupName,groupedData in groupedFlowers:\n",
    "    f.circle(\n",
    "        x=\"petal_length\",\n",
    "        y=\"petal_width\",\n",
    "        size=\"sepal_width\",\n",
    "        fill_alpha=0.2,\n",
    "        color=\"color\",\n",
    "        legend=groupName,\n",
    "        source=ColumnDataSource(groupedData)\n",
    "    )\n",
    "\n",
    "# Save and show the figure\n",
    "save(f)\n",
    "# show(f)"
   ]
  },
  {
   "cell_type": "markdown",
   "metadata": {},
   "source": [
    "## Grid plot"
   ]
  },
  {
   "cell_type": "code",
   "execution_count": 49,
   "metadata": {},
   "outputs": [
    {
     "data": {
      "text/plain": [
       "'C:\\\\Users\\\\cdimizas\\\\Desktop\\\\DIM\\\\coding_skills_power_up\\\\python3\\\\Data-Visualization-on-the-Browser-with-Python-and-Bokeh\\\\3-Advanced Plotting\\\\grid_plot.html'"
      ]
     },
     "execution_count": 49,
     "metadata": {},
     "output_type": "execute_result"
    }
   ],
   "source": [
    "# Import libraries\n",
    "from bokeh.io import output_file, save, show\n",
    "from bokeh.plotting import figure, gridplot\n",
    "from bokeh.models.annotations import Span, BoxAnnotation\n",
    "\n",
    "# Prepare the output file\n",
    "output_file(\"grid_plot.html\")\n",
    "\n",
    "# Prepare data for grid plots\n",
    "x1,y1 = list(range(0,10)), list(range(10,20))\n",
    "x2,y2 = list(range(20,30)), list(range(30,40))\n",
    "x3,y3 = list(range(40,50)), list(range(50,60))\n",
    "\n",
    "# Create plot 1\n",
    "f1 = figure(width=250, height=250, title=\"Circles\")\n",
    "f1.circle(x1, y1, size=10, color=\"navy\", alpha=0.5)\n",
    "\n",
    "# Create plot 2\n",
    "f2 = figure(width=250, height=250, title=\"Triangles\")\n",
    "f2.triangle(x2, y2, size=10, color=\"firebrick\", alpha=0.5)\n",
    "\n",
    "# Create plot 3\n",
    "f3 = figure(width=250, height=250, title=\"Squares\")\n",
    "f3.square(x3, y3, size=10, color=\"olive\", alpha=0.5)\n",
    "\n",
    "# Add span annotation\n",
    "span_4 = Span(location=4, dimension=\"height\", line_color='green', line_width=2)\n",
    "f1.add_layout(span_4)\n",
    "\n",
    "# Add a box annotation\n",
    "box_2_6 = BoxAnnotation(left=2, right=6, fill_color='firebrick', fill_alpha=0.3)\n",
    "f1.add_layout(box_2_6)\n",
    "\n",
    "# Put all plotes in a grid layout\n",
    "f = gridplot([[f1,f2, f3], [None, None, None]])\n",
    "\n",
    "# Save and show the figure\n",
    "save(f)\n",
    "# show(f)\n"
   ]
  },
  {
   "cell_type": "code",
   "execution_count": null,
   "metadata": {
    "collapsed": true
   },
   "outputs": [],
   "source": []
  }
 ],
 "metadata": {
  "kernelspec": {
   "display_name": "Python 3",
   "language": "python",
   "name": "python3"
  },
  "language_info": {
   "codemirror_mode": {
    "name": "ipython",
    "version": 3
   },
   "file_extension": ".py",
   "mimetype": "text/x-python",
   "name": "python",
   "nbconvert_exporter": "python",
   "pygments_lexer": "ipython3",
   "version": "3.6.3"
  }
 },
 "nbformat": 4,
 "nbformat_minor": 2
}
