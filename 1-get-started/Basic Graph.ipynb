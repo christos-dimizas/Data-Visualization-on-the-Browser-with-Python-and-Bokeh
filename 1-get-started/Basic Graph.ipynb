{
 "cells": [
  {
   "cell_type": "code",
   "execution_count": 16,
   "metadata": {},
   "outputs": [
    {
     "data": {
      "text/plain": [
       "'C:\\\\Users\\\\cdimizas\\\\Desktop\\\\DIM\\\\coding_skills_power_up\\\\python3\\\\Data-Visualization-on-the-Browser-with-Python-and-Bokeh\\\\1-get-started\\\\Line.html'"
      ]
     },
     "execution_count": 16,
     "metadata": {},
     "output_type": "execute_result"
    }
   ],
   "source": [
    "# Basic Bokeh line graph\n",
    "\n",
    "from bokeh.plotting import figure\n",
    "from bokeh.io import output_file, show, save\n",
    "\n",
    "# Prepare some data\n",
    "x=[1,2,3,4,5]\n",
    "y=[6,7,8,9,10]\n",
    "\n",
    "# prepare the output file\n",
    "output_file(\"Line.html\")\n",
    "\n",
    "# Create a figure object\n",
    "f=figure()\n",
    "\n",
    "# Create line plot\n",
    "f.line(x,y)\n",
    "save(f)\n"
   ]
  },
  {
   "cell_type": "code",
   "execution_count": 15,
   "metadata": {},
   "outputs": [
    {
     "data": {
      "text/plain": [
       "'C:\\\\Users\\\\cdimizas\\\\Desktop\\\\DIM\\\\coding_skills_power_up\\\\python3\\\\Data-Visualization-on-the-Browser-with-Python-and-Bokeh\\\\1-get-started\\\\Line_from_csv.html'"
      ]
     },
     "execution_count": 15,
     "metadata": {},
     "output_type": "execute_result"
    }
   ],
   "source": [
    "# Basic Bokeh line graph - Import Data\n",
    "\n",
    "from bokeh.plotting import figure\n",
    "from bokeh.io import output_file, show, save\n",
    "import pandas\n",
    "\n",
    "# Prepare some data\n",
    "df = pandas.read_csv(\"../data/data.csv\")\n",
    "x=df[\"x\"]\n",
    "y=df[\"y\"]\n",
    "\n",
    "# prepare the output file\n",
    "output_file(\"Line_from_csv.html\")\n",
    "\n",
    "# Create a figure object\n",
    "f=figure()\n",
    "\n",
    "# Create line plot\n",
    "f.line(x,y)\n",
    "save(f)\n"
   ]
  },
  {
   "cell_type": "code",
   "execution_count": 14,
   "metadata": {},
   "outputs": [
    {
     "data": {
      "text/plain": [
       "'C:\\\\Users\\\\cdimizas\\\\Desktop\\\\DIM\\\\coding_skills_power_up\\\\python3\\\\Data-Visualization-on-the-Browser-with-Python-and-Bokeh\\\\1-get-started\\\\Line_from_url_csv.html'"
      ]
     },
     "execution_count": 14,
     "metadata": {},
     "output_type": "execute_result"
    }
   ],
   "source": [
    "# Basic Bokeh line graph - Import Data from url\n",
    "\n",
    "from bokeh.plotting import figure\n",
    "from bokeh.io import output_file, save\n",
    "import pandas\n",
    "\n",
    "# Prepare some data\n",
    "df = pandas.read_csv(\"http://pythonhow.com/data/bachelors.csv\")\n",
    "x=df[\"Year\"]\n",
    "y=df[\"Engineering\"]\n",
    "\n",
    "# prepare the output file\n",
    "output_file(\"Line_from_url_csv.html\")\n",
    "\n",
    "# Create a figure object\n",
    "f=figure()\n",
    "\n",
    "# Create line plot\n",
    "f.line(x,y)\n",
    "save(f)\n"
   ]
  },
  {
   "cell_type": "code",
   "execution_count": null,
   "metadata": {
    "collapsed": true
   },
   "outputs": [],
   "source": []
  }
 ],
 "metadata": {
  "kernelspec": {
   "display_name": "Python 3",
   "language": "python",
   "name": "python3"
  },
  "language_info": {
   "codemirror_mode": {
    "name": "ipython",
    "version": 3
   },
   "file_extension": ".py",
   "mimetype": "text/x-python",
   "name": "python",
   "nbconvert_exporter": "python",
   "pygments_lexer": "ipython3",
   "version": "3.6.3"
  }
 },
 "nbformat": 4,
 "nbformat_minor": 2
}
