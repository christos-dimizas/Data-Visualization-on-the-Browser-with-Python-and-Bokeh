{
 "cells": [
  {
   "cell_type": "markdown",
   "metadata": {},
   "source": [
    "#  Customizing Bokeh Graphs"
   ]
  },
  {
   "cell_type": "markdown",
   "metadata": {},
   "source": [
    "##  Plotting flower species"
   ]
  },
  {
   "cell_type": "code",
   "execution_count": 82,
   "metadata": {},
   "outputs": [
    {
     "data": {
      "text/plain": [
       "'C:\\\\Users\\\\cdimizas\\\\Desktop\\\\DIM\\\\coding_skills_power_up\\\\python3\\\\Data-Visualization-on-the-Browser-with-Python-and-Bokeh\\\\2-Customizing-Bokeh-Graphs\\\\iris.html'"
      ]
     },
     "execution_count": 82,
     "metadata": {},
     "output_type": "execute_result"
    }
   ],
   "source": [
    "# Import libraries\n",
    "from bokeh.plotting import figure\n",
    "from bokeh.io import output_file, save, show\n",
    "from bokeh.sampledata.iris import flowers\n",
    "from bokeh.models import Range1d, PanTool, ResetTool, HoverTool\n",
    "import pandas as pd\n",
    "\n",
    "# Define the output fle \n",
    "output_file(\"iris.html\")\n",
    "\n",
    "# Create the figure object\n",
    "f=figure()\n",
    "\n",
    "# Tools Styling\n",
    "# f.tools=[PanTool(), ResetTool()]\n",
    "hover = HoverTool(tooltips=[(\"Species\",\"@species\"), (\"Sepal Width\", \"@sepal_width\")])\n",
    "f.add_tools(hover)\n",
    "\n",
    "# Plot area Styling\n",
    "f.plot_width=1100\n",
    "f.plot_height=650\n",
    "f.background_fill_color=\"olive\"\n",
    "f.background_fill_alpha=0.3\n",
    "\n",
    "\n",
    "# Title Styling\n",
    "f.title.text=\"Iris Morphology\"\n",
    "f.title.text_font=\"times\"\n",
    "f.title.text_color=\"olive\"\n",
    "f.title.text_font_size=\"44px\"\n",
    "f.title.align=\"center\"\n",
    "\n",
    "\n",
    "# Axes Styling\n",
    "f.xaxis.minor_tick_line_color=\"blue\"\n",
    "f.yaxis.major_label_orientation=\"vertical\"\n",
    "f.xaxis.axis_label=\"Petal Length\"\n",
    "f.yaxis.axis_label=\"Petal Width\"\n",
    "f.axis.axis_label_text_color=\"blue\"\n",
    "f.axis.major_label_text_color=\"orange\"\n",
    "\n",
    "# Axes Geometry\n",
    "f.x_range=Range1d(start=0, end=10)\n",
    "f.y_range=Range1d(start=0, end=5)\n",
    "# f.xaxis[0].ticker.desired_num_ticks=5\n",
    "f.yaxis[0].ticker.desired_num_ticks=5\n",
    "\n",
    "\n",
    "# Grid Styling\n",
    "f.xgrid.grid_line_color= \"red\"\n",
    "f.ygrid.grid_line_color= \"red\"\n",
    "f.xgrid.grid_line_alpha=0.3\n",
    "f.ygrid.grid_line_alpha=0.3\n",
    "f.grid.grid_line_dash=[5,3]\n",
    "\n",
    "# Add color column regarding the flower species\n",
    "colorMap = {'setosa': 'red', 'versicolor':'green', 'virginica':'blue'}\n",
    "flowers['color'] = [colorMap[x] for x in flowers['species']]\n",
    "\n",
    "# Adding glyphs (filtered for each species)\n",
    "df = pd.DataFrame(flowers)\n",
    "groupedFlowers = df.groupby('species')\n",
    "\n",
    "for groupName,groupedData in groupedFlowers:\n",
    "    f.circle(\n",
    "        x=groupedData[\"petal_length\"],\n",
    "        y=groupedData[\"petal_width\"],\n",
    "        size=groupedData[\"sepal_width\"],\n",
    "        fill_alpha=0.2,\n",
    "        color=groupedData['color'],\n",
    "        legend=groupName\n",
    "    )\n",
    "\n",
    "# Save and show the figure\n",
    "save(f)\n",
    "# show(f)"
   ]
  },
  {
   "cell_type": "markdown",
   "metadata": {},
   "source": [
    "##  Catagorical Data"
   ]
  },
  {
   "cell_type": "code",
   "execution_count": 26,
   "metadata": {},
   "outputs": [],
   "source": [
    "# Import libraries\n",
    "from bokeh.plotting import figure\n",
    "from bokeh.io import output_file, save, show\n",
    "\n",
    "# Prepare output\n",
    "output_file(\"students_categorical_data.html\")\n",
    "\n",
    "# Create figure\n",
    "f=figure(\n",
    "    x_range=[\"F\", \"D-\", \"D\", \"D+\", \"C-\", \"C\", \"C+\", \"B-\", \"B\", \"B+\", \"A-\", \"A\", \"A+\"],\n",
    "    y_range=[\"F\", \"D-\", \"D\", \"D+\", \"C-\", \"C\", \"C+\", \"B-\", \"B\", \"B+\", \"A-\", \"A\", \"A+\"]\n",
    ")\n",
    "\n",
    "# Adding glyphs\n",
    "f.circle(x=[\"A\", \"B\"], y=[\"C\", \"D\"], size=8)\n",
    "\n",
    "# Save and show the figure\n",
    "save(f)\n",
    "# show(f)"
   ]
  },
  {
   "cell_type": "code",
   "execution_count": null,
   "metadata": {
    "collapsed": true
   },
   "outputs": [],
   "source": []
  }
 ],
 "metadata": {
  "kernelspec": {
   "display_name": "Python 3",
   "language": "python",
   "name": "python3"
  },
  "language_info": {
   "codemirror_mode": {
    "name": "ipython",
    "version": 3
   },
   "file_extension": ".py",
   "mimetype": "text/x-python",
   "name": "python",
   "nbconvert_exporter": "python",
   "pygments_lexer": "ipython3",
   "version": "3.6.3"
  }
 },
 "nbformat": 4,
 "nbformat_minor": 2
}
